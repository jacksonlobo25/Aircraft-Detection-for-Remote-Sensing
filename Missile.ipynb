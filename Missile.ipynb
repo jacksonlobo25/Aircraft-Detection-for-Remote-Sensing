{
  "cells": [
    {
      "cell_type": "code",
      "execution_count": null,
      "metadata": {
        "id": "uuImJMVDpa5E",
        "colab": {
          "base_uri": "https://localhost:8080/"
        },
        "outputId": "efd08e23-b89f-40af-ae4b-44152d7a433a"
      },
      "outputs": [
        {
          "output_type": "stream",
          "name": "stdout",
          "text": [
            "Mounted at /content/drive\n"
          ]
        }
      ],
      "source": [
        "from google.colab import drive\n",
        "drive.mount('/content/drive')"
      ]
    },
    {
      "cell_type": "code",
      "execution_count": null,
      "metadata": {
        "id": "N1dHkPHFp4sq"
      },
      "outputs": [],
      "source": [
        "import zipfile\n",
        "import os\n",
        "\n",
        "zip_ref = zipfile.ZipFile('/content/drive/MyDrive/Images.zip', 'r') \n",
        "zip_ref.extractall('/tmp') #Extracts the files into the /tmp folder\n",
        "zip_ref.close()"
      ]
    },
    {
      "cell_type": "code",
      "execution_count": null,
      "metadata": {
        "id": "xLGe7AaPCcbI"
      },
      "outputs": [],
      "source": [
        "import numpy as np \n",
        "import pandas as pd \n",
        "import matplotlib.pyplot as plt\n",
        "import cv2\n",
        "import tensorflow as tf\n",
        "from PIL import Image\n",
        "from tqdm import tqdm\n",
        "import os\n",
        "from sklearn.metrics import classification_report\n",
        "import seaborn as sn; sn.set(font_scale=1.4)\n",
        "from sklearn.utils import shuffle"
      ]
    },
    {
      "cell_type": "code",
      "execution_count": null,
      "metadata": {
        "id": "s4K6E_o1nq_s",
        "colab": {
          "base_uri": "https://localhost:8080/"
        },
        "outputId": "d2223bed-675c-4f31-d811-f83189c77438"
      },
      "outputs": [
        {
          "output_type": "stream",
          "name": "stdout",
          "text": [
            "{'birds': 0, 'drones': 1, 'helicopters': 2, 'jets': 3, 'planes': 4}\n"
          ]
        }
      ],
      "source": [
        "class_names = ['birds','drones','helicopters','jets','planes']\n",
        "class_names_label = {class_name:i for i, class_name in enumerate(class_names)}\n",
        "\n",
        "nb_classes = len(class_names)\n",
        "print(class_names_label)\n",
        "\n",
        "IMAGE_SIZE = (300,300)"
      ]
    },
    {
      "cell_type": "code",
      "execution_count": null,
      "metadata": {
        "id": "2-QGQLQoCcd_"
      },
      "outputs": [],
      "source": [
        "def load_data():\n",
        "  DIRECTORY = r\"/tmp/Images\"\n",
        "  CATEGORY = ['Train','Test']\n",
        "\n",
        "  output = []\n",
        "\n",
        "  for category in CATEGORY:\n",
        "    path = os.path.join(DIRECTORY,category)\n",
        "    images = []\n",
        "    labels = []\n",
        "\n",
        "    print(\"Loading {}\".format(category))\n",
        "\n",
        "    for folder in os.listdir(path):\n",
        "      label = class_names_label[folder]\n",
        "\n",
        "      for file in os.listdir(os.path.join(path,folder)):\n",
        "        img_path = os.path.join(os.path.join(path,folder),file)\n",
        "\n",
        "        img = cv2.imread(img_path)\n",
        "        img = cv2.cvtColor(img,cv2.COLOR_BGR2RGB)\n",
        "        img = cv2.resize(img,IMAGE_SIZE)\n",
        "\n",
        "        images.append(img)\n",
        "        labels.append(label)\n",
        "\n",
        "    images = np.array(images,dtype = 'float32')\n",
        "    lables = np.array(labels,dtype = 'int32')\n",
        "\n",
        "    output.append((images,lables))\n",
        "  \n",
        "  return output\n",
        "\n"
      ]
    },
    {
      "cell_type": "code",
      "execution_count": null,
      "metadata": {
        "id": "p02pp9l0egaA",
        "colab": {
          "base_uri": "https://localhost:8080/"
        },
        "outputId": "58b27e61-efe9-4650-efc9-15c03936f165"
      },
      "outputs": [
        {
          "output_type": "stream",
          "name": "stdout",
          "text": [
            "Loading Train\n",
            "Loading Test\n"
          ]
        }
      ],
      "source": [
        "(train_images,train_labels) , (test_images,test_labels) = load_data()"
      ]
    },
    {
      "cell_type": "code",
      "execution_count": null,
      "metadata": {
        "id": "Z3NZ23znfHao"
      },
      "outputs": [],
      "source": [
        "train_images, train_labels = shuffle(train_images,train_labels,random_state=25)\n"
      ]
    },
    {
      "cell_type": "code",
      "source": [
        "import keras\n",
        "from keras.models import Sequential\n",
        "from keras.layers import Dense, Conv2D , MaxPool2D , Flatten , Dropout , BatchNormalization\n",
        "from keras.preprocessing.image import ImageDataGenerator\n",
        "from tensorflow.keras.optimizers import Adam\n",
        "\n",
        "from sklearn.metrics import classification_report,confusion_matrix"
      ],
      "metadata": {
        "id": "DWKN7A4C9V9B"
      },
      "execution_count": null,
      "outputs": []
    },
    {
      "cell_type": "code",
      "execution_count": null,
      "metadata": {
        "id": "U3Vzne7fCcgx",
        "colab": {
          "base_uri": "https://localhost:8080/"
        },
        "outputId": "246a593c-1a26-47fc-a651-8b0ac5f49f21"
      },
      "outputs": [
        {
          "output_type": "stream",
          "name": "stdout",
          "text": [
            "Model: \"sequential_23\"\n",
            "_________________________________________________________________\n",
            " Layer (type)                Output Shape              Param #   \n",
            "=================================================================\n",
            " conv2d_52 (Conv2D)          (None, 150, 150, 16)      208       \n",
            "                                                                 \n",
            " max_pooling2d_37 (MaxPoolin  (None, 75, 75, 16)       0         \n",
            " g2D)                                                            \n",
            "                                                                 \n",
            " conv2d_53 (Conv2D)          (None, 75, 75, 32)        2080      \n",
            "                                                                 \n",
            " max_pooling2d_38 (MaxPoolin  (None, 37, 37, 32)       0         \n",
            " g2D)                                                            \n",
            "                                                                 \n",
            " conv2d_54 (Conv2D)          (None, 37, 37, 64)        8256      \n",
            "                                                                 \n",
            " max_pooling2d_39 (MaxPoolin  (None, 18, 18, 64)       0         \n",
            " g2D)                                                            \n",
            "                                                                 \n",
            " dropout_25 (Dropout)        (None, 18, 18, 64)        0         \n",
            "                                                                 \n",
            " flatten_23 (Flatten)        (None, 20736)             0         \n",
            "                                                                 \n",
            " dense_28 (Dense)            (None, 500)               10368500  \n",
            "                                                                 \n",
            " dropout_26 (Dropout)        (None, 500)               0         \n",
            "                                                                 \n",
            " dense_29 (Dense)            (None, 5)                 2505      \n",
            "                                                                 \n",
            "=================================================================\n",
            "Total params: 10,381,549\n",
            "Trainable params: 10,381,549\n",
            "Non-trainable params: 0\n",
            "_________________________________________________________________\n"
          ]
        }
      ],
      "source": [
        "model=Sequential()\n",
        "model.add(Conv2D(filters=16,kernel_size=2,padding=\"same\",activation=\"relu\",input_shape=(150,150,3)))\n",
        "model.add(MaxPool2D(pool_size=2))\n",
        "model.add(Conv2D(filters=32,kernel_size=2,padding=\"same\",activation=\"relu\"))\n",
        "model.add(MaxPool2D(pool_size=2))\n",
        "model.add(Conv2D(filters=64,kernel_size=2,padding=\"same\",activation=\"relu\"))\n",
        "model.add(MaxPool2D(pool_size=2))\n",
        "model.add(Dropout(0.2))\n",
        "model.add(Flatten())\n",
        "model.add(Dense(500,activation=\"relu\"))\n",
        "model.add(Dropout(0.2))\n",
        "model.add(Dense(5,activation=\"softmax\"))\n",
        "model.summary()"
      ]
    },
    {
      "cell_type": "code",
      "execution_count": null,
      "metadata": {
        "id": "2LYTfk8cCclh"
      },
      "outputs": [],
      "source": [
        "# Compile\n",
        "model.compile(\n",
        "    loss='sparse_categorical_crossentropy',\n",
        "    optimizer='adam',\n",
        "    metrics=['accuracy']\n",
        ")"
      ]
    },
    {
      "cell_type": "code",
      "source": [
        "train_datagen = ImageDataGenerator(\n",
        "    rescale=1. / 255,\n",
        "    shear_range=0.2,\n",
        "    zoom_range=0.2,\n",
        "    horizontal_flip=True)"
      ],
      "metadata": {
        "id": "BJbkQzt1yg6T"
      },
      "execution_count": null,
      "outputs": []
    },
    {
      "cell_type": "code",
      "source": [
        "test_datagen = ImageDataGenerator(rescale=1. / 255)"
      ],
      "metadata": {
        "id": "8WCN-XgoygxE"
      },
      "execution_count": null,
      "outputs": []
    },
    {
      "cell_type": "code",
      "source": [
        "train_data_dir = 'C:\\\\Users\\\\jacks\\\\Downloads\\\\example\\\\Train'\n",
        "validation_data_dir = 'C:\\\\Users\\\\jacks\\\\Downloads\\\\example\\\\Test'\n",
        "nb_train_samples = 839\n",
        "nb_validation_samples = 190\n",
        "epochs = 50\n",
        "batch_size = 32"
      ],
      "metadata": {
        "id": "Ja5-PZp4zAAI"
      },
      "execution_count": null,
      "outputs": []
    },
    {
      "cell_type": "code",
      "source": [
        "train_generator = train_datagen.flow_from_directory(\n",
        "    train_data_dir,\n",
        "    target_size=(300, 300),\n",
        "    batch_size=batch_size,\n",
        "    class_mode='binary')"
      ],
      "metadata": {
        "id": "f7Ak8R6qyglo"
      },
      "execution_count": null,
      "outputs": []
    },
    {
      "cell_type": "code",
      "source": [
        "validation_generator = test_datagen.flow_from_directory(\n",
        "    validation_data_dir,\n",
        "    target_size=(300, 300),\n",
        "    batch_size=batch_size,\n",
        "    class_mode='binary')\n"
      ],
      "metadata": {
        "id": "HD4tBl44ypUA"
      },
      "execution_count": null,
      "outputs": []
    },
    {
      "cell_type": "code",
      "execution_count": null,
      "metadata": {
        "id": "MDsQx4Q1CcoI",
        "colab": {
          "base_uri": "https://localhost:8080/"
        },
        "outputId": "43ad93a3-0851-4e91-998e-f11ca78ef7b5",
        "collapsed": true
      },
      "outputs": [
        {
          "output_type": "stream",
          "name": "stdout",
          "text": [
            "Epoch 1/100\n",
            "162/162 [==============================] - 91s 554ms/step - loss: 5.8631 - accuracy: 0.4643\n",
            "Epoch 2/100\n",
            "162/162 [==============================] - 83s 513ms/step - loss: 0.7998 - accuracy: 0.7101\n",
            "Epoch 3/100\n",
            "162/162 [==============================] - 81s 500ms/step - loss: 0.4188 - accuracy: 0.8567\n",
            "Epoch 4/100\n",
            "162/162 [==============================] - 82s 503ms/step - loss: 0.2640 - accuracy: 0.9121\n",
            "Epoch 5/100\n",
            "162/162 [==============================] - 86s 528ms/step - loss: 0.1955 - accuracy: 0.9367\n",
            "Epoch 6/100\n",
            "162/162 [==============================] - 82s 504ms/step - loss: 0.2159 - accuracy: 0.9322\n",
            "Epoch 7/100\n",
            "162/162 [==============================] - 81s 502ms/step - loss: 0.1532 - accuracy: 0.9533\n",
            "Epoch 8/100\n",
            "162/162 [==============================] - 81s 498ms/step - loss: 0.1065 - accuracy: 0.9674\n",
            "Epoch 9/100\n",
            "162/162 [==============================] - 81s 502ms/step - loss: 0.0662 - accuracy: 0.9791\n",
            "Epoch 10/100\n",
            "162/162 [==============================] - 82s 507ms/step - loss: 0.0966 - accuracy: 0.9730\n",
            "Epoch 11/100\n",
            "162/162 [==============================] - 81s 499ms/step - loss: 0.1074 - accuracy: 0.9695\n",
            "Epoch 12/100\n",
            "162/162 [==============================] - 81s 500ms/step - loss: 0.1099 - accuracy: 0.9639\n",
            "Epoch 13/100\n",
            "162/162 [==============================] - 81s 499ms/step - loss: 0.1053 - accuracy: 0.9685\n",
            "Epoch 14/100\n",
            "162/162 [==============================] - 81s 497ms/step - loss: 0.0959 - accuracy: 0.9749\n",
            "Epoch 15/100\n",
            "162/162 [==============================] - 81s 498ms/step - loss: 0.0693 - accuracy: 0.9813\n",
            "Epoch 16/100\n",
            "162/162 [==============================] - 81s 497ms/step - loss: 0.0695 - accuracy: 0.9855\n",
            "Epoch 17/100\n",
            "162/162 [==============================] - 81s 500ms/step - loss: 0.0615 - accuracy: 0.9818\n",
            "Epoch 18/100\n",
            "162/162 [==============================] - 80s 496ms/step - loss: 0.1028 - accuracy: 0.9718\n",
            "Epoch 19/100\n",
            "162/162 [==============================] - 80s 496ms/step - loss: 0.0403 - accuracy: 0.9880\n",
            "Epoch 20/100\n",
            "162/162 [==============================] - 81s 498ms/step - loss: 0.0833 - accuracy: 0.9772\n",
            "Epoch 21/100\n",
            "162/162 [==============================] - 81s 500ms/step - loss: 0.0608 - accuracy: 0.9813\n",
            "Epoch 22/100\n",
            "162/162 [==============================] - 80s 494ms/step - loss: 0.0461 - accuracy: 0.9859\n",
            "Epoch 23/100\n",
            "162/162 [==============================] - 80s 495ms/step - loss: 0.0844 - accuracy: 0.9780\n",
            "Epoch 24/100\n",
            "162/162 [==============================] - 80s 495ms/step - loss: 0.0726 - accuracy: 0.9784\n",
            "Epoch 25/100\n",
            "162/162 [==============================] - 80s 494ms/step - loss: 0.0680 - accuracy: 0.9857\n",
            "Epoch 26/100\n",
            "162/162 [==============================] - 82s 506ms/step - loss: 0.0572 - accuracy: 0.9838\n",
            "Epoch 27/100\n",
            "162/162 [==============================] - 80s 493ms/step - loss: 0.0911 - accuracy: 0.9772\n",
            "Epoch 28/100\n",
            "162/162 [==============================] - 80s 492ms/step - loss: 0.0559 - accuracy: 0.9847\n",
            "Epoch 29/100\n",
            "162/162 [==============================] - 80s 493ms/step - loss: 0.0517 - accuracy: 0.9876\n",
            "Epoch 30/100\n",
            "162/162 [==============================] - 80s 496ms/step - loss: 0.0524 - accuracy: 0.9871\n",
            "Epoch 31/100\n",
            "162/162 [==============================] - 80s 494ms/step - loss: 0.0779 - accuracy: 0.9801\n",
            "Epoch 32/100\n",
            "162/162 [==============================] - 80s 494ms/step - loss: 0.0560 - accuracy: 0.9876\n",
            "Epoch 33/100\n",
            "162/162 [==============================] - 80s 495ms/step - loss: 0.0661 - accuracy: 0.9828\n",
            "Epoch 34/100\n",
            "162/162 [==============================] - 82s 505ms/step - loss: 0.0516 - accuracy: 0.9867\n",
            "Epoch 35/100\n",
            "162/162 [==============================] - 81s 499ms/step - loss: 0.0566 - accuracy: 0.9847\n",
            "Epoch 36/100\n",
            "162/162 [==============================] - 81s 501ms/step - loss: 0.0719 - accuracy: 0.9832\n",
            "Epoch 37/100\n",
            "162/162 [==============================] - 80s 493ms/step - loss: 0.0394 - accuracy: 0.9909\n",
            "Epoch 38/100\n",
            "162/162 [==============================] - 80s 493ms/step - loss: 0.0247 - accuracy: 0.9948\n",
            "Epoch 39/100\n",
            "162/162 [==============================] - 80s 494ms/step - loss: 0.0379 - accuracy: 0.9890\n",
            "Epoch 40/100\n",
            "162/162 [==============================] - 80s 493ms/step - loss: 0.0952 - accuracy: 0.9759\n",
            "Epoch 41/100\n",
            "162/162 [==============================] - 80s 497ms/step - loss: 0.1445 - accuracy: 0.9666\n",
            "Epoch 42/100\n",
            "162/162 [==============================] - 80s 494ms/step - loss: 0.0581 - accuracy: 0.9869\n",
            "Epoch 43/100\n",
            "162/162 [==============================] - 80s 496ms/step - loss: 0.0311 - accuracy: 0.9921\n",
            "Epoch 44/100\n",
            "162/162 [==============================] - 80s 493ms/step - loss: 0.0219 - accuracy: 0.9934\n",
            "Epoch 45/100\n",
            "162/162 [==============================] - 81s 498ms/step - loss: 0.0749 - accuracy: 0.9863\n",
            "Epoch 46/100\n",
            "162/162 [==============================] - 80s 493ms/step - loss: 0.0897 - accuracy: 0.9799\n",
            "Epoch 47/100\n",
            "162/162 [==============================] - 80s 492ms/step - loss: 0.0832 - accuracy: 0.9807\n",
            "Epoch 48/100\n",
            "162/162 [==============================] - 80s 496ms/step - loss: 0.0459 - accuracy: 0.9915\n",
            "Epoch 49/100\n",
            "162/162 [==============================] - 80s 493ms/step - loss: 0.0273 - accuracy: 0.9902\n",
            "Epoch 50/100\n",
            "162/162 [==============================] - 80s 493ms/step - loss: 0.0584 - accuracy: 0.9888\n",
            "Epoch 51/100\n",
            "162/162 [==============================] - 81s 498ms/step - loss: 0.1111 - accuracy: 0.9776\n",
            "Epoch 52/100\n",
            "162/162 [==============================] - 80s 495ms/step - loss: 0.0739 - accuracy: 0.9844\n",
            "Epoch 53/100\n",
            "162/162 [==============================] - 81s 499ms/step - loss: 0.0684 - accuracy: 0.9840\n",
            "Epoch 54/100\n",
            "162/162 [==============================] - 80s 491ms/step - loss: 0.0742 - accuracy: 0.9857\n",
            "Epoch 55/100\n",
            "162/162 [==============================] - 80s 492ms/step - loss: 0.0813 - accuracy: 0.9844\n",
            "Epoch 56/100\n",
            "162/162 [==============================] - 80s 493ms/step - loss: 0.0745 - accuracy: 0.9857\n",
            "Epoch 57/100\n",
            "162/162 [==============================] - 80s 491ms/step - loss: 0.0504 - accuracy: 0.9905\n",
            "Epoch 58/100\n",
            "162/162 [==============================] - 80s 492ms/step - loss: 0.0339 - accuracy: 0.9921\n",
            "Epoch 59/100\n",
            "162/162 [==============================] - 80s 496ms/step - loss: 0.0640 - accuracy: 0.9927\n",
            "Epoch 60/100\n",
            "162/162 [==============================] - 80s 496ms/step - loss: 0.0209 - accuracy: 0.9948\n",
            "Epoch 61/100\n",
            "162/162 [==============================] - 79s 491ms/step - loss: 0.0262 - accuracy: 0.9936\n",
            "Epoch 62/100\n",
            "162/162 [==============================] - 80s 492ms/step - loss: 0.0450 - accuracy: 0.9925\n",
            "Epoch 63/100\n",
            "162/162 [==============================] - 80s 491ms/step - loss: 0.0219 - accuracy: 0.9936\n",
            "Epoch 64/100\n",
            "162/162 [==============================] - 80s 491ms/step - loss: 0.0305 - accuracy: 0.9932\n",
            "Epoch 65/100\n",
            "162/162 [==============================] - 80s 492ms/step - loss: 0.0473 - accuracy: 0.9911\n",
            "Epoch 66/100\n",
            "162/162 [==============================] - 80s 493ms/step - loss: 0.0367 - accuracy: 0.9923\n",
            "Epoch 67/100\n",
            "162/162 [==============================] - 81s 499ms/step - loss: 0.0363 - accuracy: 0.9936\n",
            "Epoch 68/100\n",
            "162/162 [==============================] - 81s 497ms/step - loss: 0.0520 - accuracy: 0.9913\n",
            "Epoch 69/100\n",
            "162/162 [==============================] - 80s 493ms/step - loss: 0.0713 - accuracy: 0.9861\n",
            "Epoch 70/100\n",
            "162/162 [==============================] - 81s 498ms/step - loss: 0.0836 - accuracy: 0.9847\n",
            "Epoch 71/100\n",
            "162/162 [==============================] - 82s 505ms/step - loss: 0.1550 - accuracy: 0.9726\n",
            "Epoch 72/100\n",
            "162/162 [==============================] - 80s 497ms/step - loss: 0.0503 - accuracy: 0.9882\n",
            "Epoch 73/100\n",
            "162/162 [==============================] - 80s 493ms/step - loss: 0.0471 - accuracy: 0.9903\n",
            "Epoch 74/100\n",
            "162/162 [==============================] - 80s 495ms/step - loss: 0.0608 - accuracy: 0.9886\n",
            "Epoch 75/100\n",
            "162/162 [==============================] - 81s 498ms/step - loss: 0.0324 - accuracy: 0.9942\n",
            "Epoch 76/100\n",
            "162/162 [==============================] - 80s 493ms/step - loss: 0.0339 - accuracy: 0.9940\n",
            "Epoch 77/100\n",
            "162/162 [==============================] - 80s 495ms/step - loss: 0.0603 - accuracy: 0.9903\n",
            "Epoch 78/100\n",
            "162/162 [==============================] - 80s 494ms/step - loss: 0.0284 - accuracy: 0.9944\n",
            "Epoch 79/100\n",
            "162/162 [==============================] - 81s 499ms/step - loss: 0.0314 - accuracy: 0.9942\n",
            "Epoch 80/100\n",
            "162/162 [==============================] - 81s 498ms/step - loss: 0.0317 - accuracy: 0.9946\n",
            "Epoch 81/100\n",
            "162/162 [==============================] - 80s 495ms/step - loss: 0.0139 - accuracy: 0.9971\n",
            "Epoch 82/100\n",
            "162/162 [==============================] - 80s 493ms/step - loss: 0.0252 - accuracy: 0.9958\n",
            "Epoch 83/100\n",
            "162/162 [==============================] - 80s 492ms/step - loss: 0.0391 - accuracy: 0.9917\n",
            "Epoch 84/100\n",
            "162/162 [==============================] - 80s 491ms/step - loss: 0.0773 - accuracy: 0.9892\n",
            "Epoch 85/100\n",
            "162/162 [==============================] - 80s 491ms/step - loss: 0.0503 - accuracy: 0.9909\n",
            "Epoch 86/100\n",
            "162/162 [==============================] - 80s 492ms/step - loss: 0.1591 - accuracy: 0.9782\n",
            "Epoch 87/100\n",
            "162/162 [==============================] - 80s 493ms/step - loss: 0.0855 - accuracy: 0.9878\n",
            "Epoch 88/100\n",
            "162/162 [==============================] - 80s 493ms/step - loss: 0.0692 - accuracy: 0.9894\n",
            "Epoch 89/100\n",
            "162/162 [==============================] - 80s 493ms/step - loss: 0.0436 - accuracy: 0.9930\n",
            "Epoch 90/100\n",
            "162/162 [==============================] - 80s 492ms/step - loss: 0.0280 - accuracy: 0.9952\n",
            "Epoch 91/100\n",
            "162/162 [==============================] - 80s 494ms/step - loss: 0.0168 - accuracy: 0.9963\n",
            "Epoch 92/100\n",
            "162/162 [==============================] - 80s 494ms/step - loss: 0.0354 - accuracy: 0.9950\n",
            "Epoch 93/100\n",
            "162/162 [==============================] - 80s 495ms/step - loss: 0.0421 - accuracy: 0.9919\n",
            "Epoch 94/100\n",
            "162/162 [==============================] - 83s 509ms/step - loss: 0.0602 - accuracy: 0.9911\n",
            "Epoch 95/100\n",
            "162/162 [==============================] - 81s 499ms/step - loss: 0.0285 - accuracy: 0.9958\n",
            "Epoch 96/100\n",
            "162/162 [==============================] - 80s 494ms/step - loss: 0.0338 - accuracy: 0.9944\n",
            "Epoch 97/100\n",
            "162/162 [==============================] - 80s 494ms/step - loss: 0.0551 - accuracy: 0.9909\n",
            "Epoch 98/100\n",
            "162/162 [==============================] - 80s 496ms/step - loss: 0.0414 - accuracy: 0.9915\n",
            "Epoch 99/100\n",
            "162/162 [==============================] - 80s 496ms/step - loss: 0.0984 - accuracy: 0.9871\n",
            "Epoch 100/100\n",
            "162/162 [==============================] - 80s 493ms/step - loss: 0.0316 - accuracy: 0.9956\n"
          ]
        }
      ],
      "source": [
        "history = model.fit(train_images, train_labels, batch_size=32, epochs=100, verbose = 1)"
      ]
    },
    {
      "cell_type": "code",
      "execution_count": null,
      "metadata": {
        "id": "9YRZPi9IisWO",
        "colab": {
          "base_uri": "https://localhost:8080/"
        },
        "outputId": "47147dfa-0eb4-41c5-b4f7-573f8d7df297"
      },
      "outputs": [
        {
          "output_type": "stream",
          "name": "stdout",
          "text": [
            "32/32 [==============================] - 5s 164ms/step - loss: 0.0074 - accuracy: 0.9990\n"
          ]
        }
      ],
      "source": [
        "test_loss = model.evaluate(test_images,test_labels)"
      ]
    },
    {
      "cell_type": "code",
      "execution_count": null,
      "metadata": {
        "id": "slHVKFkkiu5D"
      },
      "outputs": [],
      "source": [
        "predictions = model.predict(test_images)\n",
        "pred_labels = np.argmax(predictions,axis = 1)"
      ]
    },
    {
      "cell_type": "code",
      "execution_count": null,
      "metadata": {
        "id": "AhdgtJe0iutS",
        "colab": {
          "base_uri": "https://localhost:8080/"
        },
        "outputId": "8701485b-c051-43b5-decd-dcb96c959fe7"
      },
      "outputs": [
        {
          "output_type": "stream",
          "name": "stdout",
          "text": [
            "              precision    recall  f1-score   support\n",
            "\n",
            "           0       1.00      1.00      1.00       213\n",
            "           1       1.00      1.00      1.00       230\n",
            "           2       1.00      1.00      1.00       210\n",
            "           3       1.00      0.99      1.00       190\n",
            "           4       1.00      1.00      1.00       170\n",
            "\n",
            "    accuracy                           1.00      1013\n",
            "   macro avg       1.00      1.00      1.00      1013\n",
            "weighted avg       1.00      1.00      1.00      1013\n",
            "\n"
          ]
        }
      ],
      "source": [
        "print(classification_report(test_labels,pred_labels))"
      ]
    },
    {
      "cell_type": "code",
      "source": [
        "from keras.models import model_from_json\n",
        "\n",
        "model_json = model.to_json()\n",
        "with open(\"model.json\", \"w\") as json_file:\n",
        "    json_file.write(model_json)\n",
        "\n",
        "model.save(\"model.h5\")\n",
        "print(\"Saved model to disk\")"
      ],
      "metadata": {
        "id": "QMzlscEoBk7S",
        "colab": {
          "base_uri": "https://localhost:8080/"
        },
        "outputId": "a3fbdb49-b589-4abf-8633-c5498146f21c"
      },
      "execution_count": null,
      "outputs": [
        {
          "output_type": "stream",
          "name": "stdout",
          "text": [
            "Saved model to disk\n"
          ]
        }
      ]
    },
    {
      "cell_type": "code",
      "source": [
        "from keras.models import model_from_json\n",
        "# serialize model to JSON\n",
        "model_json = model.to_json()\n",
        "with open(\"model1.json\", \"w\") as json_file:\n",
        "    json_file.write(model_json)\n",
        "# serialize weights to HDF5\n",
        "model.save_weights(\"model1.h5\")\n",
        "print(\"Saved model to disk\")"
      ],
      "metadata": {
        "id": "6eyd6bIi8CDw"
      },
      "execution_count": null,
      "outputs": []
    },
    {
      "cell_type": "code",
      "source": [],
      "metadata": {
        "id": "LSe-nLe6vv5W"
      },
      "execution_count": null,
      "outputs": []
    },
    {
      "cell_type": "code",
      "source": [],
      "metadata": {
        "id": "Wcf9jzzjvv2L"
      },
      "execution_count": null,
      "outputs": []
    },
    {
      "cell_type": "code",
      "source": [],
      "metadata": {
        "id": "sLLEfUwkvvxe"
      },
      "execution_count": null,
      "outputs": []
    },
    {
      "cell_type": "code",
      "source": [
        "from google.colab import files\n",
        "files.download('model.h5')"
      ],
      "metadata": {
        "colab": {
          "base_uri": "https://localhost:8080/",
          "height": 34
        },
        "id": "-f7mAga3AQcC",
        "outputId": "808c46c6-3c04-4383-ea82-aa7c8b6c1ef6"
      },
      "execution_count": null,
      "outputs": [
        {
          "output_type": "display_data",
          "data": {
            "text/plain": [
              "<IPython.core.display.Javascript object>"
            ],
            "application/javascript": [
              "\n",
              "    async function download(id, filename, size) {\n",
              "      if (!google.colab.kernel.accessAllowed) {\n",
              "        return;\n",
              "      }\n",
              "      const div = document.createElement('div');\n",
              "      const label = document.createElement('label');\n",
              "      label.textContent = `Downloading \"${filename}\": `;\n",
              "      div.appendChild(label);\n",
              "      const progress = document.createElement('progress');\n",
              "      progress.max = size;\n",
              "      div.appendChild(progress);\n",
              "      document.body.appendChild(div);\n",
              "\n",
              "      const buffers = [];\n",
              "      let downloaded = 0;\n",
              "\n",
              "      const channel = await google.colab.kernel.comms.open(id);\n",
              "      // Send a message to notify the kernel that we're ready.\n",
              "      channel.send({})\n",
              "\n",
              "      for await (const message of channel.messages) {\n",
              "        // Send a message to notify the kernel that we're ready.\n",
              "        channel.send({})\n",
              "        if (message.buffers) {\n",
              "          for (const buffer of message.buffers) {\n",
              "            buffers.push(buffer);\n",
              "            downloaded += buffer.byteLength;\n",
              "            progress.value = downloaded;\n",
              "          }\n",
              "        }\n",
              "      }\n",
              "      const blob = new Blob(buffers, {type: 'application/binary'});\n",
              "      const a = document.createElement('a');\n",
              "      a.href = window.URL.createObjectURL(blob);\n",
              "      a.download = filename;\n",
              "      div.appendChild(a);\n",
              "      a.click();\n",
              "      div.remove();\n",
              "    }\n",
              "  "
            ]
          },
          "metadata": {}
        },
        {
          "output_type": "display_data",
          "data": {
            "text/plain": [
              "<IPython.core.display.Javascript object>"
            ],
            "application/javascript": [
              "download(\"download_2bc20a7d-1811-40d0-a9ed-1700f53b5154\", \"model.h5\", 124634928)"
            ]
          },
          "metadata": {}
        }
      ]
    }
  ],
  "metadata": {
    "colab": {
      "provenance": [],
      "collapsed_sections": []
    },
    "kernelspec": {
      "display_name": "Python 3",
      "name": "python3"
    },
    "language_info": {
      "name": "python"
    }
  },
  "nbformat": 4,
  "nbformat_minor": 0
}